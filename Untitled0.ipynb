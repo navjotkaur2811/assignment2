{
  "nbformat": 4,
  "nbformat_minor": 0,
  "metadata": {
    "colab": {
      "name": "Untitled0.ipynb",
      "provenance": [],
      "authorship_tag": "ABX9TyOsrLNBYDP7jAUBoKuQ9oy+",
      "include_colab_link": true
    },
    "kernelspec": {
      "name": "python3",
      "display_name": "Python 3"
    },
    "language_info": {
      "name": "python"
    }
  },
  "cells": [
    {
      "cell_type": "markdown",
      "metadata": {
        "id": "view-in-github",
        "colab_type": "text"
      },
      "source": [
        "<a href=\"https://colab.research.google.com/github/navjotkaur2811/assignment2/blob/main/Untitled0.ipynb\" target=\"_parent\"><img src=\"https://colab.research.google.com/assets/colab-badge.svg\" alt=\"Open In Colab\"/></a>"
      ]
    },
    {
      "cell_type": "code",
      "metadata": {
        "colab": {
          "base_uri": "https://localhost:8080/"
        },
        "id": "1hG8XtW7GG9X",
        "outputId": "e979eab2-ac8f-4691-855d-06f6e2e3006b"
      },
      "source": [
        "#assignment 2 -- Remove all occurences of an element from a list \n",
        "list=[1,3,5,5,5,6,8,10,21]\n",
        "list.remove(5)\n",
        "print(list)\n",
        "list.remove(5)\n",
        "print(list)\n",
        "list.remove(5)\n",
        "print(list)"
      ],
      "execution_count": 10,
      "outputs": [
        {
          "output_type": "stream",
          "text": [
            "[1, 3, 5, 5, 6, 8, 10, 21]\n",
            "[1, 3, 5, 6, 8, 10, 21]\n",
            "[1, 3, 6, 8, 10, 21]\n"
          ],
          "name": "stdout"
        }
      ]
    }
  ]
}